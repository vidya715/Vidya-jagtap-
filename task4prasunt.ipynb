{
  "nbformat": 4,
  "nbformat_minor": 0,
  "metadata": {
    "colab": {
      "provenance": [],
      "authorship_tag": "ABX9TyNiBNQz8rfvjztI6xQ5Tb4j",
      "include_colab_link": true
    },
    "kernelspec": {
      "name": "python3",
      "display_name": "Python 3"
    },
    "language_info": {
      "name": "python"
    }
  },
  "cells": [
    {
      "cell_type": "markdown",
      "metadata": {
        "id": "view-in-github",
        "colab_type": "text"
      },
      "source": [
        "<a href=\"https://colab.research.google.com/github/vidya715/Vidya-jagtap-/blob/main/task4prasunt.ipynb\" target=\"_parent\"><img src=\"https://colab.research.google.com/assets/colab-badge.svg\" alt=\"Open In Colab\"/></a>"
      ]
    },
    {
      "cell_type": "code",
      "source": [
        "import pandas as pd\n",
        "import csv\n",
        "import nltk\n",
        "from nltk.sentiment.vader import SentimentIntensityAnalyzer\n",
        "import matplotlib.pyplot as plt\n",
        "import seaborn as sns\n",
        "\n",
        "# Step 1: Specify file path and optional parameters\n",
        "file_path = 'D:\\\\Downloads\\\\twitter_training.csv'  # Adjust the path according to your file location\n",
        "encoding = 'utf-8'  # Specify the encoding of your CSV file\n",
        "\n",
        "# Step 2: Read CSV file into Pandas DataFrame with error handling\n",
        "try:\n",
        "    df = pd.read_csv(\"/content/twitter_training.csv\")\n",
        "except pd.errors.ParserError as e:\n",
        "    print(f\"ParserError: {e}\")\n",
        "    print(\"Attempting to read with csv module for manual parsing...\")\n",
        "\n",
        "    # Option 2: Using csv module for manual parsing\n",
        "    data = []\n",
        "    with open(file_path, 'r', encoding=encoding, errors='replace') as csvfile:\n",
        "        csvreader = csv.reader(csvfile)\n",
        "        for row in csvreader:\n",
        "            data.append(row)\n",
        "\n",
        "    df = pd.DataFrame(data[1:], columns=data[0])  # Assuming the first row is header\n",
        "\n",
        "# Step 3: Display first few rows to verify\n",
        "print(df.head())\n",
        "\n",
        "# Step 4: Perform additional data analysis or visualization\n",
        "# Check if 'text' column exists in df\n",
        "if 'text' in df.columns:\n",
        "    # Import NLTK VADER lexicon if not already downloaded\n",
        "    nltk.download('vader_lexicon')\n",
        "\n",
        "    # Initialize VADER sentiment analyzer\n",
        "    sid = SentimentIntensityAnalyzer()\n",
        "\n",
        "    # Compute sentiment scores\n",
        "    df['sentiment_compound'] = df['text'].apply(lambda x: sid.polarity_scores(x)['compound'])\n",
        "\n",
        "    # Categorize sentiment labels\n",
        "    df['sentiment_label'] = df['sentiment_compound'].apply(lambda x: 'positive' if x >= 0.05 else ('negative' if x <= -0.05 else 'neutral'))\n",
        "\n",
        "    # Plot sentiment distribution\n",
        "    plt.figure(figsize=(8, 6))\n",
        "    sns.countplot(x='sentiment_label', data=df, palette='viridis')\n",
        "    plt.title('Sentiment Distribution')\n",
        "    plt.xlabel('Sentiment')\n",
        "    plt.ylabel('Count')\n",
        "    plt.show()\n",
        "\n",
        "    # Plot sentiment over time (if your dataset has timestamps)\n",
        "    # Replace 'timestamp' with your actual timestamp column name\n",
        "    if 'timestamp' in df.columns:\n",
        "        plt.figure(figsize=(12, 8))\n",
        "        sns.lineplot(x='timestamp', y='sentiment_compound', data=df, estimator=None, lw=1)\n",
        "        plt.title('Sentiment Over Time')\n",
        "        plt.xlabel('Timestamp')\n",
        "        plt.ylabel('Compound Sentiment Score')\n",
        "        plt.xticks(rotation=45)\n",
        "        plt.show()\n",
        "    else:\n",
        "        print(\"No timestamp column found in the dataset. Skipping time series plot.\")\n",
        "else:\n",
        "    print(\"Column 'text' not found in the dataset. Please check your CSV file and column names.\")\n"
      ],
      "metadata": {
        "colab": {
          "base_uri": "https://localhost:8080/"
        },
        "id": "Ydn5LBovaRW_",
        "outputId": "d248e4fc-6ebc-491d-82d8-f65db008ba10"
      },
      "execution_count": 11,
      "outputs": [
        {
          "output_type": "stream",
          "name": "stdout",
          "text": [
            "   2401  Borderlands  Positive  \\\n",
            "0  2401  Borderlands  Positive   \n",
            "1  2401  Borderlands  Positive   \n",
            "2  2401  Borderlands  Positive   \n",
            "3  2401  Borderlands  Positive   \n",
            "4  2401  Borderlands  Positive   \n",
            "\n",
            "  im getting on borderlands and i will murder you all ,  \n",
            "0  I am coming to the borders and I will kill you...     \n",
            "1  im getting on borderlands and i will kill you ...     \n",
            "2  im coming on borderlands and i will murder you...     \n",
            "3  im getting on borderlands 2 and i will murder ...     \n",
            "4  im getting into borderlands and i can murder y...     \n",
            "Column 'text' not found in the dataset. Please check your CSV file and column names.\n"
          ]
        }
      ]
    },
    {
      "cell_type": "markdown",
      "source": [],
      "metadata": {
        "id": "MFyqUtf1Z89o"
      }
    }
  ]
}