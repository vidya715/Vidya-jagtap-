{
  "nbformat": 4,
  "nbformat_minor": 0,
  "metadata": {
    "colab": {
      "provenance": [],
      "authorship_tag": "ABX9TyPmGBn/uAWVAdp5UU9StRLR",
      "include_colab_link": true
    },
    "kernelspec": {
      "name": "python3",
      "display_name": "Python 3"
    },
    "language_info": {
      "name": "python"
    }
  },
  "cells": [
    {
      "cell_type": "markdown",
      "metadata": {
        "id": "view-in-github",
        "colab_type": "text"
      },
      "source": [
        "<a href=\"https://colab.research.google.com/github/vidya715/Vidya-jagtap-/blob/main/prasuntcybersecuritytask1.ipynb\" target=\"_parent\"><img src=\"https://colab.research.google.com/assets/colab-badge.svg\" alt=\"Open In Colab\"/></a>"
      ]
    },
    {
      "cell_type": "code",
      "execution_count": 1,
      "metadata": {
        "colab": {
          "base_uri": "https://localhost:8080/"
        },
        "id": "FdnFbEQId37A",
        "outputId": "aae1831b-4662-47f0-c646-812dd72a61d7"
      },
      "outputs": [
        {
          "output_type": "stream",
          "name": "stdout",
          "text": [
            "Enter the message to encrypt: hello\n",
            "Enter the shift value (positive integer): 17\n",
            "Encrypted message: yvccf\n",
            "Decrypted message: hello\n"
          ]
        }
      ],
      "source": [
        "# Online Python compiler (interpreter) to run Python online.\n",
        "# Write Python 3 code in this online editor and run it.\n",
        "def caesar_cipher_encrypt(plaintext, shift):\n",
        "    ciphertext = \"\"\n",
        "    for char in plaintext:\n",
        "        if char.isalpha():\n",
        "            # Shift character by specified number of places\n",
        "            shifted = ord(char) + shift\n",
        "\n",
        "            # Handle uppercase letters\n",
        "            if char.isupper():\n",
        "                if shifted > ord('Z'):\n",
        "                    shifted -= 26\n",
        "                elif shifted < ord('A'):\n",
        "                    shifted += 26\n",
        "\n",
        "            # Handle lowercase letters\n",
        "            elif char.islower():\n",
        "                if shifted > ord('z'):\n",
        "                    shifted -= 26\n",
        "                elif shifted < ord('a'):\n",
        "                    shifted += 26\n",
        "\n",
        "            # Append encrypted character to ciphertext\n",
        "            ciphertext += chr(shifted)\n",
        "        else:\n",
        "            # Non-alphabetic characters remain unchanged\n",
        "            ciphertext += char\n",
        "\n",
        "    return ciphertext\n",
        "\n",
        "def caesar_cipher_decrypt(ciphertext, shift):\n",
        "    plaintext = \"\"\n",
        "    for char in ciphertext:\n",
        "        if char.isalpha():\n",
        "            # Shift character by specified number of places in reverse\n",
        "            shifted = ord(char) - shift\n",
        "\n",
        "            # Handle uppercase letters\n",
        "            if char.isupper():\n",
        "                if shifted > ord('Z'):\n",
        "                    shifted -= 26\n",
        "                elif shifted < ord('A'):\n",
        "                    shifted += 26\n",
        "\n",
        "            # Handle lowercase letters\n",
        "            elif char.islower():\n",
        "                if shifted > ord('z'):\n",
        "                    shifted -= 26\n",
        "                elif shifted < ord('a'):\n",
        "                    shifted += 26\n",
        "\n",
        "            # Append decrypted character to plaintext\n",
        "            plaintext += chr(shifted)\n",
        "        else:\n",
        "            # Non-alphabetic characters remain unchanged\n",
        "            plaintext += char\n",
        "\n",
        "    return plaintext\n",
        "\n",
        "# Example usage:\n",
        "def main():\n",
        "    plaintext = input(\"Enter the message to encrypt: \")\n",
        "    shift = int(input(\"Enter the shift value (positive integer): \"))\n",
        "\n",
        "    encrypted_message = caesar_cipher_encrypt(plaintext, shift)\n",
        "    print(f\"Encrypted message: {encrypted_message}\")\n",
        "\n",
        "    decrypted_message = caesar_cipher_decrypt(encrypted_message, shift)\n",
        "    print(f\"Decrypted message: {decrypted_message}\")\n",
        "\n",
        "if __name__ == \"__main__\":\n",
        "    main()\n"
      ]
    }
  ]
}